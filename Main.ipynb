{
 "cells": [
  {
   "cell_type": "code",
   "execution_count": 6,
   "metadata": {},
   "outputs": [
    {
     "name": "stdout",
     "output_type": "stream",
     "text": [
      "Mean Squared Error for each ticker:\n",
      "AAPL: Train MSE = 17.0068, Valid MSE = 39.0934, Test MSE = 12.7275\n",
      "IBM: Train MSE = 5.1091, Valid MSE = 4.5034, Test MSE = 2.0144\n",
      "SPY: Train MSE = 13.7841, Valid MSE = 34.0725, Test MSE = 22.9516\n"
     ]
    },
    {
     "name": "stderr",
     "output_type": "stream",
     "text": [
      "c:\\Users\\yoshi\\anaconda3\\envs\\AI_Predictions\\Lib\\site-packages\\statsmodels\\tsa\\statespace\\sarimax.py:966: UserWarning: Non-stationary starting autoregressive parameters found. Using zeros as starting parameters.\n",
      "  warn('Non-stationary starting autoregressive parameters'\n",
      "c:\\Users\\yoshi\\anaconda3\\envs\\AI_Predictions\\Lib\\site-packages\\statsmodels\\tsa\\statespace\\sarimax.py:978: UserWarning: Non-invertible starting MA parameters found. Using zeros as starting parameters.\n",
      "  warn('Non-invertible starting MA parameters found.'\n",
      "c:\\Users\\yoshi\\anaconda3\\envs\\AI_Predictions\\Lib\\site-packages\\statsmodels\\tsa\\statespace\\sarimax.py:966: UserWarning: Non-stationary starting autoregressive parameters found. Using zeros as starting parameters.\n",
      "  warn('Non-stationary starting autoregressive parameters'\n",
      "c:\\Users\\yoshi\\anaconda3\\envs\\AI_Predictions\\Lib\\site-packages\\statsmodels\\tsa\\statespace\\sarimax.py:978: UserWarning: Non-invertible starting MA parameters found. Using zeros as starting parameters.\n",
      "  warn('Non-invertible starting MA parameters found.'\n"
     ]
    },
    {
     "name": "stdout",
     "output_type": "stream",
     "text": [
      "Mean Squared Error for each ticker:\n",
      "AAPL: Train MSE = 18.2513, Valid MSE = 38.5675, Test MSE = 12.0962\n",
      "IBM: Train MSE = 5.3509, Valid MSE = 4.3083, Test MSE = 1.9400\n",
      "SPY: Train MSE = 14.3427, Valid MSE = 33.6671, Test MSE = 22.8481\n"
     ]
    }
   ],
   "source": [
    "from RegressionEnvs import RegressionClass as RC\n",
    "from sklearn.linear_model import LinearRegression\n",
    "from statsmodels.tsa.arima.model import ARIMA\n",
    "\n",
    "Model = RC()\n",
    "\n",
    "for m in [LinearRegression,ARIMA]:\n",
    "    Model.Prediction(m)\n",
    "    Model.Visualization(m,False)\n",
    "\n"
   ]
  }
 ],
 "metadata": {
  "kernelspec": {
   "display_name": "AI_Predictions",
   "language": "python",
   "name": "python3"
  },
  "language_info": {
   "codemirror_mode": {
    "name": "ipython",
    "version": 3
   },
   "file_extension": ".py",
   "mimetype": "text/x-python",
   "name": "python",
   "nbconvert_exporter": "python",
   "pygments_lexer": "ipython3",
   "version": "3.12.7"
  }
 },
 "nbformat": 4,
 "nbformat_minor": 2
}
